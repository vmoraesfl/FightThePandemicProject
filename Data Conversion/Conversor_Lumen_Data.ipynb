{
 "cells": [
  {
   "cell_type": "code",
   "execution_count": 15,
   "metadata": {},
   "outputs": [],
   "source": [
    "import csv\n",
    "import pandas as pd\n",
    "import os"
   ]
  },
  {
   "cell_type": "code",
   "execution_count": 16,
   "metadata": {},
   "outputs": [],
   "source": [
    "data = pd.read_csv('NightIlluminationSP.csv', engine='python', sep = ',',encoding = 'utf-8-sig')"
   ]
  },
  {
   "cell_type": "code",
   "execution_count": 17,
   "metadata": {},
   "outputs": [
    {
     "data": {
      "text/html": [
       "<div>\n",
       "<style scoped>\n",
       "    .dataframe tbody tr th:only-of-type {\n",
       "        vertical-align: middle;\n",
       "    }\n",
       "\n",
       "    .dataframe tbody tr th {\n",
       "        vertical-align: top;\n",
       "    }\n",
       "\n",
       "    .dataframe thead th {\n",
       "        text-align: right;\n",
       "    }\n",
       "</style>\n",
       "<table border=\"1\" class=\"dataframe\">\n",
       "  <thead>\n",
       "    <tr style=\"text-align: right;\">\n",
       "      <th></th>\n",
       "      <th>VALUE</th>\n",
       "      <th>Longitude</th>\n",
       "      <th>Latitude</th>\n",
       "      <th>ID</th>\n",
       "      <th>CD_GEOCODM</th>\n",
       "      <th>NM_MUNICIP</th>\n",
       "    </tr>\n",
       "  </thead>\n",
       "  <tbody>\n",
       "    <tr>\n",
       "      <th>0</th>\n",
       "      <td>1.0</td>\n",
       "      <td>-50.976014</td>\n",
       "      <td>-21.506328</td>\n",
       "      <td>1727.0</td>\n",
       "      <td>3500105.0</td>\n",
       "      <td>ADAMANTINA</td>\n",
       "    </tr>\n",
       "    <tr>\n",
       "      <th>1</th>\n",
       "      <td>1.0</td>\n",
       "      <td>-50.974916</td>\n",
       "      <td>-21.506328</td>\n",
       "      <td>1727.0</td>\n",
       "      <td>3500105.0</td>\n",
       "      <td>ADAMANTINA</td>\n",
       "    </tr>\n",
       "    <tr>\n",
       "      <th>2</th>\n",
       "      <td>1.0</td>\n",
       "      <td>-50.973817</td>\n",
       "      <td>-21.506328</td>\n",
       "      <td>1727.0</td>\n",
       "      <td>3500105.0</td>\n",
       "      <td>ADAMANTINA</td>\n",
       "    </tr>\n",
       "    <tr>\n",
       "      <th>3</th>\n",
       "      <td>1.0</td>\n",
       "      <td>-50.972718</td>\n",
       "      <td>-21.506328</td>\n",
       "      <td>1727.0</td>\n",
       "      <td>3500105.0</td>\n",
       "      <td>ADAMANTINA</td>\n",
       "    </tr>\n",
       "    <tr>\n",
       "      <th>4</th>\n",
       "      <td>1.0</td>\n",
       "      <td>-50.976014</td>\n",
       "      <td>-21.507427</td>\n",
       "      <td>1727.0</td>\n",
       "      <td>3500105.0</td>\n",
       "      <td>ADAMANTINA</td>\n",
       "    </tr>\n",
       "    <tr>\n",
       "      <th>...</th>\n",
       "      <td>...</td>\n",
       "      <td>...</td>\n",
       "      <td>...</td>\n",
       "      <td>...</td>\n",
       "      <td>...</td>\n",
       "      <td>...</td>\n",
       "    </tr>\n",
       "    <tr>\n",
       "      <th>1011749</th>\n",
       "      <td>1.0</td>\n",
       "      <td>-46.645201</td>\n",
       "      <td>-22.175202</td>\n",
       "      <td>NaN</td>\n",
       "      <td>NaN</td>\n",
       "      <td>NaN</td>\n",
       "    </tr>\n",
       "    <tr>\n",
       "      <th>1011750</th>\n",
       "      <td>1.0</td>\n",
       "      <td>-46.471617</td>\n",
       "      <td>-24.028635</td>\n",
       "      <td>NaN</td>\n",
       "      <td>NaN</td>\n",
       "      <td>NaN</td>\n",
       "    </tr>\n",
       "    <tr>\n",
       "      <th>1011751</th>\n",
       "      <td>1.0</td>\n",
       "      <td>-45.955259</td>\n",
       "      <td>-23.778112</td>\n",
       "      <td>NaN</td>\n",
       "      <td>NaN</td>\n",
       "      <td>NaN</td>\n",
       "    </tr>\n",
       "    <tr>\n",
       "      <th>1011752</th>\n",
       "      <td>1.0</td>\n",
       "      <td>-44.928037</td>\n",
       "      <td>-23.355075</td>\n",
       "      <td>NaN</td>\n",
       "      <td>NaN</td>\n",
       "      <td>NaN</td>\n",
       "    </tr>\n",
       "    <tr>\n",
       "      <th>1011753</th>\n",
       "      <td>1.0</td>\n",
       "      <td>-46.519957</td>\n",
       "      <td>-21.512703</td>\n",
       "      <td>NaN</td>\n",
       "      <td>NaN</td>\n",
       "      <td>NaN</td>\n",
       "    </tr>\n",
       "  </tbody>\n",
       "</table>\n",
       "<p>1011754 rows × 6 columns</p>\n",
       "</div>"
      ],
      "text/plain": [
       "         VALUE  Longitude   Latitude      ID  CD_GEOCODM  NM_MUNICIP\n",
       "0          1.0 -50.976014 -21.506328  1727.0   3500105.0  ADAMANTINA\n",
       "1          1.0 -50.974916 -21.506328  1727.0   3500105.0  ADAMANTINA\n",
       "2          1.0 -50.973817 -21.506328  1727.0   3500105.0  ADAMANTINA\n",
       "3          1.0 -50.972718 -21.506328  1727.0   3500105.0  ADAMANTINA\n",
       "4          1.0 -50.976014 -21.507427  1727.0   3500105.0  ADAMANTINA\n",
       "...        ...        ...        ...     ...         ...         ...\n",
       "1011749    1.0 -46.645201 -22.175202     NaN         NaN         NaN\n",
       "1011750    1.0 -46.471617 -24.028635     NaN         NaN         NaN\n",
       "1011751    1.0 -45.955259 -23.778112     NaN         NaN         NaN\n",
       "1011752    1.0 -44.928037 -23.355075     NaN         NaN         NaN\n",
       "1011753    1.0 -46.519957 -21.512703     NaN         NaN         NaN\n",
       "\n",
       "[1011754 rows x 6 columns]"
      ]
     },
     "execution_count": 17,
     "metadata": {},
     "output_type": "execute_result"
    }
   ],
   "source": [
    "data"
   ]
  },
  {
   "cell_type": "code",
   "execution_count": 26,
   "metadata": {},
   "outputs": [
    {
     "name": "stdout",
     "output_type": "stream",
     "text": [
      "<class 'pandas.core.frame.DataFrame'>\n",
      "RangeIndex: 1011754 entries, 0 to 1011753\n",
      "Data columns (total 6 columns):\n",
      " #   Column      Non-Null Count    Dtype  \n",
      "---  ------      --------------    -----  \n",
      " 0   VALUE       1011754 non-null  float64\n",
      " 1   Longitude   1011754 non-null  float64\n",
      " 2   Latitude    1011754 non-null  float64\n",
      " 3   ID          1011744 non-null  float64\n",
      " 4   CD_GEOCODM  1011744 non-null  float64\n",
      " 5   NM_MUNICIP  1011744 non-null  object \n",
      "dtypes: float64(5), object(1)\n",
      "memory usage: 46.3+ MB\n",
      "None\n"
     ]
    }
   ],
   "source": [
    "print(data.info())"
   ]
  },
  {
   "cell_type": "code",
   "execution_count": 27,
   "metadata": {},
   "outputs": [],
   "source": [
    "df = data['NM_MUNICIP'].value_counts()\n",
    "db = pd.DataFrame({'Município':df.index, 'Luminosidade':df.values})"
   ]
  },
  {
   "cell_type": "code",
   "execution_count": 28,
   "metadata": {},
   "outputs": [],
   "source": [
    "db.to_csv('Luzpormunicipio.csv', encoding = 'utf-8-sig',index=False)"
   ]
  },
  {
   "cell_type": "code",
   "execution_count": 20,
   "metadata": {},
   "outputs": [
    {
     "data": {
      "text/plain": [
       "NoneType"
      ]
     },
     "execution_count": 20,
     "metadata": {},
     "output_type": "execute_result"
    }
   ],
   "source": []
  },
  {
   "cell_type": "code",
   "execution_count": null,
   "metadata": {},
   "outputs": [],
   "source": []
  }
 ],
 "metadata": {
  "kernelspec": {
   "display_name": "Python 3",
   "language": "python",
   "name": "python3"
  },
  "language_info": {
   "codemirror_mode": {
    "name": "ipython",
    "version": 3
   },
   "file_extension": ".py",
   "mimetype": "text/x-python",
   "name": "python",
   "nbconvert_exporter": "python",
   "pygments_lexer": "ipython3",
   "version": "3.7.6"
  }
 },
 "nbformat": 4,
 "nbformat_minor": 4
}
